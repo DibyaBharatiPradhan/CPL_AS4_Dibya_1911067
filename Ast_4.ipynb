{
 "cells": [
  {
   "cell_type": "code",
   "execution_count": 150,
   "id": "c5237a5f",
   "metadata": {},
   "outputs": [],
   "source": [
    "\n",
    "%run my_functions_library.ipynb                                     # Running the entire library here because \n",
    "                                                                    # importing the library is not working here"
   ]
  },
  {
   "cell_type": "markdown",
   "id": "079ba9c4",
   "metadata": {},
   "source": [
    "### Question 1 "
   ]
  },
  {
   "cell_type": "markdown",
   "id": "744bfb54",
   "metadata": {},
   "source": [
    "#### LU decomposition using Doolittle's condition i.e. L[i][i]=1"
   ]
  },
  {
   "cell_type": "code",
   "execution_count": 151,
   "id": "50dccc97",
   "metadata": {},
   "outputs": [
    {
     "name": "stdout",
     "output_type": "stream",
     "text": [
      "The original matrix is: \n",
      "\n",
      "1.0    0.0    1.0    2.0    \n",
      "\n",
      "0.0    1.0    -2.0    0.0    \n",
      "\n",
      "1.0    2.0    -1.0    0.0    \n",
      "\n",
      "2.0    1.0    3.0    -2.0    \n",
      "\n",
      "\n",
      "The transformed LU matrix is \n",
      "\n",
      "1.0    0.0    1.0    2.0    \n",
      "\n",
      "0.0    1.0    -2.0    0.0    \n",
      "\n",
      "1.0    2.0    2.0    -2.0    \n",
      "\n",
      "2.0    1.0    1.5    -3.0    \n",
      "\n",
      "\n",
      "The solutions are : \n",
      "\n",
      "x[1] = 1.0\n",
      "x[2] = -1.0\n",
      "x[3] = 1.0\n",
      "x[4] = 2.0\n"
     ]
    }
   ],
   "source": [
    "\n",
    "print(\"The original matrix is: \")\n",
    "A1,row,col = read_matrix('matrix_Q1.txt')                            # reading and printing the matrix given in the question\n",
    "print_matrix(A1,row,col)\n",
    "\n",
    "b_vector=[6,-3,-2,0]                                                 # defining the vector b\n",
    "\n",
    "A1, b_vector = partial_pivot_LU(A1, b_vector, row)                  # partial pivoting to avoid division by zero at pivot place\n",
    "A1 = LU_doolittle(A1,row)                                           # calling LU decomposition function\n",
    "\n",
    "print(\"The transformed LU matrix is \")\n",
    "print_matrix(A1,row,row)\n",
    "\n",
    "x = [0 for i in range(row)]\n",
    "x = backward_subs_doolittle(A1,row,b_vector)                        # calling function for backward substitution \n",
    "\n",
    "print(\"The solutions are : \")\n",
    "print()\n",
    "for i in range(row):\n",
    "    print(\"x[\"+str(i+1)+\"] = \"+str(x[i]))                            # printing the solutions\n"
   ]
  },
  {
   "cell_type": "markdown",
   "id": "385d7bd7",
   "metadata": {},
   "source": [
    "#### LU decomposition using Crout's condition i.e. U[i][i]=1"
   ]
  },
  {
   "cell_type": "code",
   "execution_count": 152,
   "id": "781c374d",
   "metadata": {},
   "outputs": [
    {
     "name": "stdout",
     "output_type": "stream",
     "text": [
      "The original matrix is: \n",
      "\n",
      "1.0    0.0    1.0    2.0    \n",
      "\n",
      "0.0    1.0    -2.0    0.0    \n",
      "\n",
      "1.0    2.0    -1.0    0.0    \n",
      "\n",
      "2.0    1.0    3.0    -2.0    \n",
      "\n",
      "\n",
      "The transformed LU matrix is \n",
      "\n",
      "1.0    0.0    1.0    2.0    \n",
      "\n",
      "0.0    1.0    -2.0    0.0    \n",
      "\n",
      "1.0    2.0    2.0    -1.0    \n",
      "\n",
      "2.0    1.0    3.0    -3.0    \n",
      "\n",
      "\n",
      "The solutions are : \n",
      "\n",
      "x[1] = 1.0\n",
      "x[2] = -1.0\n",
      "x[3] = 1.0\n",
      "x[4] = 2.0\n"
     ]
    }
   ],
   "source": [
    "print(\"The original matrix is: \")\n",
    "A2,row,col = read_matrix('matrix_Q1.txt')                           # reading and printing the matrix given in the question\n",
    "print_matrix(A2,row,col)\n",
    "\n",
    "b_vector=[6,-3,-2,0]                                                # defining the vector b\n",
    "\n",
    "A2, b_vector = partial_pivot_LU(A2, b_vector, row)                  # partial pivoting to avoid division by zero at pivot place\n",
    "A2=LU_crout(A2,ro)                                                  # calling LU decomposition function\n",
    "\n",
    "print(\"The transformed LU matrix is \")\n",
    "print_matrix(A2,row,row)\n",
    "\n",
    "x = [0 for i in range(row)]\n",
    "x= backward_subs_crout(A2,row,b_vector)                              # calling function for backward substitution \n",
    "\n",
    "print(\"The solutions are : \")\n",
    "print()\n",
    "for i in range(row):\n",
    "    print(\"x[\"+str(i+1)+\"] = \"+str(x[i]))                             # printing the solutions\n",
    "\n"
   ]
  },
  {
   "cell_type": "markdown",
   "id": "fd98e567",
   "metadata": {},
   "source": [
    "### Question 2"
   ]
  },
  {
   "cell_type": "code",
   "execution_count": 153,
   "id": "eaea1c44",
   "metadata": {},
   "outputs": [
    {
     "name": "stdout",
     "output_type": "stream",
     "text": [
      "The original matrix is : \n",
      "\n",
      "0.0    2.0    8.0    6.0    \n",
      "\n",
      "0.0    0.0    1.0    2.0    \n",
      "\n",
      "0.0    1.0    0.0    1.0    \n",
      "\n",
      "3.0    7.0    1.0    0.0    \n",
      "\n",
      "\n",
      "The transformed LU matrix is \n",
      "\n",
      "3.0    7.0    1.0    0.0    \n",
      "\n",
      "0.0    2.0    8.0    6.0    \n",
      "\n",
      "0.0    0.0    1.0    2.0    \n",
      "\n",
      "0.0    0.5    -4.0    6.0    \n",
      "\n",
      "\n",
      "The inverse is:\n",
      "\n",
      "-0.25000000000000006    1.6666666666666672    -1.8333333333333333    0.3333333333333333    \n",
      "\n",
      "0.08333333333333337    -0.666666666666667    0.8333333333333333    0.0    \n",
      "\n",
      "0.16666666666666666    -0.33333333333333326    -0.3333333333333333    0.0    \n",
      "\n",
      "-0.08333333333333333    0.6666666666666666    0.16666666666666666    0.0    \n",
      "\n",
      "\n",
      "Multiplying original matrix with the inverse for Verification: \n",
      "\n",
      "1.0    0.0    0.0    0.0    \n",
      "\n",
      "0.0    1.0    0.0    0.0    \n",
      "\n",
      "0.0    -0.0    1.0    0.0    \n",
      "\n",
      "0.0    -0.0    -0.0    1.0    \n",
      "\n",
      "\n"
     ]
    }
   ],
   "source": [
    "print(\"The original matrix is : \")\n",
    "B,row,col=read_matrix('matrix_Q2.txt')                               # reading and printing the matrix given in the question\n",
    "print_matrix(B,row,row)\n",
    "\n",
    "C=copy.deepcopy(B)                                                   # deepcopy for unchanged matrix required for inverse \n",
    "\n",
    "I_matrix=return_identity(row)\n",
    "B, I_matrix = partial_pivot_LU(B, I_matrix, row)                     # Then partial pivoting is done for both matrix and vector.\n",
    "B=LU_doolittle(B,row)                                                # calling LU decomposition function\n",
    "\n",
    "print(\"The transformed LU matrix is \")\n",
    "print_matrix(B,row,row)\n",
    "\n",
    "\n",
    "det=determinant(B,row)                                                # storing the determinant                                             \n",
    "if det == 0:                                                          # Checking if inverse exists\n",
    "    print(\"Determinant = zero.\\nInverse doesn't exist.\")\n",
    "else:\n",
    "    print(\"The inverse is:\")\n",
    "\n",
    "    \n",
    "    inverse= inverse_by_LU(C, row)                                    # Then the decomposition algorithm is applied.\n",
    "    print_matrix(inverse,row,row)                                      # Calculating and printing inverse\n",
    "    \n",
    "   \n",
    "    print(\"Multiplying original matrix with the inverse for Verification: \")                                           # Verification:\n",
    "    mm,r,c=matrix_multiply(C,row,row,inverse,row,row)                  # to see if it gives indentity matrix on multiplication \n",
    "    print_matrix(round_matrix(mm),r,c)                                 # of our obtained inverse matrix with original matrix\n"
   ]
  },
  {
   "cell_type": "markdown",
   "id": "2ba04146",
   "metadata": {},
   "source": [
    "### Question 3\n"
   ]
  },
  {
   "cell_type": "markdown",
   "id": "7b2d0095",
   "metadata": {},
   "source": [
    "#### Solving using Cholesky decomposition"
   ]
  },
  {
   "cell_type": "code",
   "execution_count": 154,
   "id": "81fdf0de",
   "metadata": {},
   "outputs": [
    {
     "name": "stdout",
     "output_type": "stream",
     "text": [
      "The original matrix is: \n",
      "\n",
      "10.0    1.0    0.0    2.5    2.2    \n",
      "\n",
      "1.0    12.0    -0.3    1.1    2.85    \n",
      "\n",
      "0.0    -0.3    9.5    0.0    2.79    \n",
      "\n",
      "2.5    1.1    0.0    6.0    2.87    \n",
      "\n",
      "\n",
      "The transformed Cholesky matrix is: \n",
      "\n",
      "3.16    0.32    0.0    0.79    \n",
      "\n",
      "0.32    3.45    -0.09    0.25    \n",
      "\n",
      "0.0    -0.09    3.08    0.01    \n",
      "\n",
      "0.79    0.25    0.01    2.31    \n",
      "\n",
      "\n",
      "The solutions are : \n",
      "\n",
      "0.10\n",
      "0.20\n",
      "0.30\n",
      "0.40\n"
     ]
    }
   ],
   "source": [
    "print(\"The original matrix is: \")\n",
    "C,row,col=read_matrix('matrix_Q3.txt')                         # reading and printing the matrix given in the question\n",
    "print_matrix(C,row,col)\n",
    "\n",
    "b_vector=[2.20, 2.85, 2.79, 2.87]                              # defining the vector b\n",
    "\n",
    "\n",
    "C, b_vector = partial_pivot_LU(C, b_vector, row)               # partial pivoting to avoid division by zero at pivot place\n",
    "C=LU_Cho(C,row)                                                # calling Cholesky decomposition function\n",
    "print(\"The transformed Cholesky matrix is: \")\n",
    "round_matrix(C)\n",
    "print_matrix(C,row,row)\n",
    "\n",
    "a=backward_subs_Cholesky(C,row,b_vector)                      # calling backward substitution Cholesky function \n",
    "\n",
    "print(\"The solutions are : \")\n",
    "print()\n",
    "for i in range(row):\n",
    "    print('%.2f'%a[i])                                        # printing the solutions           \n"
   ]
  },
  {
   "cell_type": "code",
   "execution_count": null,
   "id": "d36c3005",
   "metadata": {},
   "outputs": [],
   "source": [
    " "
   ]
  }
 ],
 "metadata": {
  "kernelspec": {
   "display_name": "Python 3",
   "language": "python",
   "name": "python3"
  },
  "language_info": {
   "codemirror_mode": {
    "name": "ipython",
    "version": 3
   },
   "file_extension": ".py",
   "mimetype": "text/x-python",
   "name": "python",
   "nbconvert_exporter": "python",
   "pygments_lexer": "ipython3",
   "version": "3.8.10"
  }
 },
 "nbformat": 4,
 "nbformat_minor": 5
}
